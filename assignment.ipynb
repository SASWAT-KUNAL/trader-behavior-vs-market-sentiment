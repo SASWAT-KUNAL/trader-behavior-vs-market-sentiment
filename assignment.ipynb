{
 "cells": [
  {
   "cell_type": "code",
   "execution_count": 23,
   "id": "49aac432",
   "metadata": {},
   "outputs": [
    {
     "name": "stderr",
     "output_type": "stream",
     "text": [
      "\n",
      "[notice] A new release of pip is available: 23.1.2 -> 25.1.1\n",
      "[notice] To update, run: python.exe -m pip install --upgrade pip\n"
     ]
    },
    {
     "name": "stdout",
     "output_type": "stream",
     "text": [
      "Requirement already satisfied: pandas in c:\\users\\panda\\onedrive\\desktop\\input overlap\\venv\\lib\\site-packages (2.3.1)\n",
      "Requirement already satisfied: numpy>=1.23.2 in c:\\users\\panda\\onedrive\\desktop\\input overlap\\venv\\lib\\site-packages (from pandas) (2.3.1)\n",
      "Requirement already satisfied: python-dateutil>=2.8.2 in c:\\users\\panda\\onedrive\\desktop\\input overlap\\venv\\lib\\site-packages (from pandas) (2.9.0.post0)\n",
      "Requirement already satisfied: pytz>=2020.1 in c:\\users\\panda\\onedrive\\desktop\\input overlap\\venv\\lib\\site-packages (from pandas) (2025.2)\n",
      "Requirement already satisfied: tzdata>=2022.7 in c:\\users\\panda\\onedrive\\desktop\\input overlap\\venv\\lib\\site-packages (from pandas) (2025.2)\n",
      "Requirement already satisfied: six>=1.5 in c:\\users\\panda\\onedrive\\desktop\\input overlap\\venv\\lib\\site-packages (from python-dateutil>=2.8.2->pandas) (1.17.0)\n"
     ]
    },
    {
     "data": {
      "text/plain": [
       "(                                      Account  Coin  Execution Price  \\\n",
       " 0  0xae5eacaf9c6b9111fd53034a602c192a04e082ed  @107           7.9769   \n",
       " 1  0xae5eacaf9c6b9111fd53034a602c192a04e082ed  @107           7.9800   \n",
       " 2  0xae5eacaf9c6b9111fd53034a602c192a04e082ed  @107           7.9855   \n",
       " 3  0xae5eacaf9c6b9111fd53034a602c192a04e082ed  @107           7.9874   \n",
       " 4  0xae5eacaf9c6b9111fd53034a602c192a04e082ed  @107           7.9894   \n",
       " \n",
       "    Size Tokens  Size USD Side     Timestamp IST  Start Position Direction  \\\n",
       " 0       986.87   7872.16  BUY  02-12-2024 22:50        0.000000       Buy   \n",
       " 1        16.00    127.68  BUY  02-12-2024 22:50      986.524596       Buy   \n",
       " 2       144.09   1150.63  BUY  02-12-2024 22:50     1002.518996       Buy   \n",
       " 3       142.98   1142.04  BUY  02-12-2024 22:50     1146.558564       Buy   \n",
       " 4         8.73     69.75  BUY  02-12-2024 22:50     1289.488521       Buy   \n",
       " \n",
       "    Closed PnL                                   Transaction Hash     Order ID  \\\n",
       " 0         0.0  0xec09451986a1874e3a980418412fcd0201f500c95bac...  52017706630   \n",
       " 1         0.0  0xec09451986a1874e3a980418412fcd0201f500c95bac...  52017706630   \n",
       " 2         0.0  0xec09451986a1874e3a980418412fcd0201f500c95bac...  52017706630   \n",
       " 3         0.0  0xec09451986a1874e3a980418412fcd0201f500c95bac...  52017706630   \n",
       " 4         0.0  0xec09451986a1874e3a980418412fcd0201f500c95bac...  52017706630   \n",
       " \n",
       "    Crossed       Fee      Trade ID     Timestamp  \n",
       " 0     True  0.345404  8.950000e+14  1.730000e+12  \n",
       " 1     True  0.005600  4.430000e+14  1.730000e+12  \n",
       " 2     True  0.050431  6.600000e+14  1.730000e+12  \n",
       " 3     True  0.050043  1.080000e+15  1.730000e+12  \n",
       " 4     True  0.003055  1.050000e+15  1.730000e+12  ,\n",
       "     timestamp  value classification        date\n",
       " 0  1517463000     30           Fear  2018-02-01\n",
       " 1  1517549400     15   Extreme Fear  2018-02-02\n",
       " 2  1517635800     40           Fear  2018-02-03\n",
       " 3  1517722200     24   Extreme Fear  2018-02-04\n",
       " 4  1517808600     11   Extreme Fear  2018-02-05)"
      ]
     },
     "execution_count": 23,
     "metadata": {},
     "output_type": "execute_result"
    }
   ],
   "source": [
    "!pip install pandas\n",
    "import pandas as pd\n",
    "\n",
    "# Load data\n",
    "trades = pd.read_csv(\"historical_data.csv\")\n",
    "sentiment = pd.read_csv(\"greed_index.csv\")\n",
    "\n",
    "# Display first few rows\n",
    "trades.head(), sentiment.head()\n"
   ]
  },
  {
   "cell_type": "code",
   "execution_count": 24,
   "id": "76a21d52",
   "metadata": {},
   "outputs": [],
   "source": [
    "# Convert timestamp columns to datetime\n",
    "trades[\"Timestamp IST\"] = pd.to_datetime(trades[\"Timestamp IST\"], dayfirst=True, errors='coerce')\n",
    "\n",
    "sentiment[\"date\"] = pd.to_datetime(sentiment[\"date\"])\n",
    "\n",
    "# Add a 'date' column to trades to match with sentiment\n",
    "trades[\"date\"] = trades[\"Timestamp IST\"].dt.date\n"
   ]
  },
  {
   "cell_type": "code",
   "execution_count": 25,
   "id": "cfab6411",
   "metadata": {},
   "outputs": [],
   "source": [
    "daily_stats = trades.groupby(\"date\").agg({\n",
    "    \"Closed PnL\": \"mean\",\n",
    "    \"Execution Price\": \"mean\",\n",
    "    \"Size USD\": \"sum\",\n",
    "    \"Size Tokens\": \"sum\",\n",
    "    \"Fee\": \"sum\",\n",
    "    \"Side\": lambda x: x.value_counts().to_dict()  \n",
    "}).reset_index()\n"
   ]
  },
  {
   "cell_type": "code",
   "execution_count": 26,
   "id": "a04b5bc9",
   "metadata": {},
   "outputs": [],
   "source": [
    "daily_stats[\"date\"] = pd.to_datetime(daily_stats[\"date\"])\n",
    "sentiment[\"date\"] = pd.to_datetime(sentiment[\"date\"])\n"
   ]
  },
  {
   "cell_type": "code",
   "execution_count": 27,
   "id": "0803ca87",
   "metadata": {},
   "outputs": [
    {
     "data": {
      "text/html": [
       "<div>\n",
       "<style scoped>\n",
       "    .dataframe tbody tr th:only-of-type {\n",
       "        vertical-align: middle;\n",
       "    }\n",
       "\n",
       "    .dataframe tbody tr th {\n",
       "        vertical-align: top;\n",
       "    }\n",
       "\n",
       "    .dataframe thead th {\n",
       "        text-align: right;\n",
       "    }\n",
       "</style>\n",
       "<table border=\"1\" class=\"dataframe\">\n",
       "  <thead>\n",
       "    <tr style=\"text-align: right;\">\n",
       "      <th></th>\n",
       "      <th>date</th>\n",
       "      <th>Closed PnL</th>\n",
       "      <th>Execution Price</th>\n",
       "      <th>Size USD</th>\n",
       "      <th>Size Tokens</th>\n",
       "      <th>Fee</th>\n",
       "      <th>Side</th>\n",
       "      <th>timestamp</th>\n",
       "      <th>value</th>\n",
       "      <th>classification</th>\n",
       "    </tr>\n",
       "  </thead>\n",
       "  <tbody>\n",
       "    <tr>\n",
       "      <th>0</th>\n",
       "      <td>2023-05-01</td>\n",
       "      <td>0.000000</td>\n",
       "      <td>1898.133333</td>\n",
       "      <td>477.00</td>\n",
       "      <td>0.25130</td>\n",
       "      <td>0.000000</td>\n",
       "      <td>{'BUY': 3}</td>\n",
       "      <td>1.682919e+09</td>\n",
       "      <td>63.0</td>\n",
       "      <td>Greed</td>\n",
       "    </tr>\n",
       "    <tr>\n",
       "      <th>1</th>\n",
       "      <td>2023-12-05</td>\n",
       "      <td>0.000000</td>\n",
       "      <td>11038.300000</td>\n",
       "      <td>50005.83</td>\n",
       "      <td>11.80901</td>\n",
       "      <td>12.501455</td>\n",
       "      <td>{'BUY': 7, 'SELL': 2}</td>\n",
       "      <td>1.701754e+09</td>\n",
       "      <td>75.0</td>\n",
       "      <td>Extreme Greed</td>\n",
       "    </tr>\n",
       "    <tr>\n",
       "      <th>2</th>\n",
       "      <td>2023-12-14</td>\n",
       "      <td>-18.675885</td>\n",
       "      <td>8031.868818</td>\n",
       "      <td>113203.35</td>\n",
       "      <td>4092.28901</td>\n",
       "      <td>28.300831</td>\n",
       "      <td>{'SELL': 6, 'BUY': 5}</td>\n",
       "      <td>1.702532e+09</td>\n",
       "      <td>72.0</td>\n",
       "      <td>Greed</td>\n",
       "    </tr>\n",
       "    <tr>\n",
       "      <th>3</th>\n",
       "      <td>2023-12-15</td>\n",
       "      <td>-12.316017</td>\n",
       "      <td>2.982000</td>\n",
       "      <td>10609.95</td>\n",
       "      <td>3558.00000</td>\n",
       "      <td>2.652489</td>\n",
       "      <td>{'BUY': 2}</td>\n",
       "      <td>1.702618e+09</td>\n",
       "      <td>70.0</td>\n",
       "      <td>Greed</td>\n",
       "    </tr>\n",
       "    <tr>\n",
       "      <th>4</th>\n",
       "      <td>2023-12-16</td>\n",
       "      <td>0.000000</td>\n",
       "      <td>0.384707</td>\n",
       "      <td>15348.77</td>\n",
       "      <td>39897.00000</td>\n",
       "      <td>3.837189</td>\n",
       "      <td>{'BUY': 3}</td>\n",
       "      <td>1.702705e+09</td>\n",
       "      <td>67.0</td>\n",
       "      <td>Greed</td>\n",
       "    </tr>\n",
       "  </tbody>\n",
       "</table>\n",
       "</div>"
      ],
      "text/plain": [
       "        date  Closed PnL  Execution Price   Size USD  Size Tokens        Fee  \\\n",
       "0 2023-05-01    0.000000      1898.133333     477.00      0.25130   0.000000   \n",
       "1 2023-12-05    0.000000     11038.300000   50005.83     11.80901  12.501455   \n",
       "2 2023-12-14  -18.675885      8031.868818  113203.35   4092.28901  28.300831   \n",
       "3 2023-12-15  -12.316017         2.982000   10609.95   3558.00000   2.652489   \n",
       "4 2023-12-16    0.000000         0.384707   15348.77  39897.00000   3.837189   \n",
       "\n",
       "                    Side     timestamp  value classification  \n",
       "0             {'BUY': 3}  1.682919e+09   63.0          Greed  \n",
       "1  {'BUY': 7, 'SELL': 2}  1.701754e+09   75.0  Extreme Greed  \n",
       "2  {'SELL': 6, 'BUY': 5}  1.702532e+09   72.0          Greed  \n",
       "3             {'BUY': 2}  1.702618e+09   70.0          Greed  \n",
       "4             {'BUY': 3}  1.702705e+09   67.0          Greed  "
      ]
     },
     "execution_count": 27,
     "metadata": {},
     "output_type": "execute_result"
    }
   ],
   "source": [
    "merged_df = pd.merge(daily_stats, sentiment, how=\"left\", on=\"date\")\n",
    "merged_df.head()"
   ]
  },
  {
   "cell_type": "code",
   "execution_count": 28,
   "id": "43ab0671",
   "metadata": {},
   "outputs": [
    {
     "name": "stdout",
     "output_type": "stream",
     "text": [
      "Requirement already satisfied: seaborn in c:\\users\\panda\\onedrive\\desktop\\input overlap\\venv\\lib\\site-packages (0.13.2)\n",
      "Requirement already satisfied: numpy!=1.24.0,>=1.20 in c:\\users\\panda\\onedrive\\desktop\\input overlap\\venv\\lib\\site-packages (from seaborn) (2.3.1)\n",
      "Requirement already satisfied: pandas>=1.2 in c:\\users\\panda\\onedrive\\desktop\\input overlap\\venv\\lib\\site-packages (from seaborn) (2.3.1)\n",
      "Requirement already satisfied: matplotlib!=3.6.1,>=3.4 in c:\\users\\panda\\onedrive\\desktop\\input overlap\\venv\\lib\\site-packages (from seaborn) (3.10.3)\n",
      "Requirement already satisfied: contourpy>=1.0.1 in c:\\users\\panda\\onedrive\\desktop\\input overlap\\venv\\lib\\site-packages (from matplotlib!=3.6.1,>=3.4->seaborn) (1.3.2)\n",
      "Requirement already satisfied: cycler>=0.10 in c:\\users\\panda\\onedrive\\desktop\\input overlap\\venv\\lib\\site-packages (from matplotlib!=3.6.1,>=3.4->seaborn) (0.12.1)\n",
      "Requirement already satisfied: fonttools>=4.22.0 in c:\\users\\panda\\onedrive\\desktop\\input overlap\\venv\\lib\\site-packages (from matplotlib!=3.6.1,>=3.4->seaborn) (4.58.4)\n",
      "Requirement already satisfied: kiwisolver>=1.3.1 in c:\\users\\panda\\onedrive\\desktop\\input overlap\\venv\\lib\\site-packages (from matplotlib!=3.6.1,>=3.4->seaborn) (1.4.8)\n",
      "Requirement already satisfied: packaging>=20.0 in c:\\users\\panda\\onedrive\\desktop\\input overlap\\venv\\lib\\site-packages (from matplotlib!=3.6.1,>=3.4->seaborn) (25.0)\n",
      "Requirement already satisfied: pillow>=8 in c:\\users\\panda\\onedrive\\desktop\\input overlap\\venv\\lib\\site-packages (from matplotlib!=3.6.1,>=3.4->seaborn) (11.2.1)\n",
      "Requirement already satisfied: pyparsing>=2.3.1 in c:\\users\\panda\\onedrive\\desktop\\input overlap\\venv\\lib\\site-packages (from matplotlib!=3.6.1,>=3.4->seaborn) (3.2.3)\n",
      "Requirement already satisfied: python-dateutil>=2.7 in c:\\users\\panda\\onedrive\\desktop\\input overlap\\venv\\lib\\site-packages (from matplotlib!=3.6.1,>=3.4->seaborn) (2.9.0.post0)\n",
      "Requirement already satisfied: pytz>=2020.1 in c:\\users\\panda\\onedrive\\desktop\\input overlap\\venv\\lib\\site-packages (from pandas>=1.2->seaborn) (2025.2)\n",
      "Requirement already satisfied: tzdata>=2022.7 in c:\\users\\panda\\onedrive\\desktop\\input overlap\\venv\\lib\\site-packages (from pandas>=1.2->seaborn) (2025.2)\n",
      "Requirement already satisfied: six>=1.5 in c:\\users\\panda\\onedrive\\desktop\\input overlap\\venv\\lib\\site-packages (from python-dateutil>=2.7->matplotlib!=3.6.1,>=3.4->seaborn) (1.17.0)\n"
     ]
    },
    {
     "name": "stderr",
     "output_type": "stream",
     "text": [
      "\n",
      "[notice] A new release of pip is available: 23.1.2 -> 25.1.1\n",
      "[notice] To update, run: python.exe -m pip install --upgrade pip\n"
     ]
    },
    {
     "name": "stdout",
     "output_type": "stream",
     "text": [
      "Requirement already satisfied: matplotlib in c:\\users\\panda\\onedrive\\desktop\\input overlap\\venv\\lib\\site-packages (3.10.3)\n",
      "Requirement already satisfied: contourpy>=1.0.1 in c:\\users\\panda\\onedrive\\desktop\\input overlap\\venv\\lib\\site-packages (from matplotlib) (1.3.2)\n",
      "Requirement already satisfied: cycler>=0.10 in c:\\users\\panda\\onedrive\\desktop\\input overlap\\venv\\lib\\site-packages (from matplotlib) (0.12.1)\n",
      "Requirement already satisfied: fonttools>=4.22.0 in c:\\users\\panda\\onedrive\\desktop\\input overlap\\venv\\lib\\site-packages (from matplotlib) (4.58.4)\n",
      "Requirement already satisfied: kiwisolver>=1.3.1 in c:\\users\\panda\\onedrive\\desktop\\input overlap\\venv\\lib\\site-packages (from matplotlib) (1.4.8)\n",
      "Requirement already satisfied: numpy>=1.23 in c:\\users\\panda\\onedrive\\desktop\\input overlap\\venv\\lib\\site-packages (from matplotlib) (2.3.1)\n",
      "Requirement already satisfied: packaging>=20.0 in c:\\users\\panda\\onedrive\\desktop\\input overlap\\venv\\lib\\site-packages (from matplotlib) (25.0)\n",
      "Requirement already satisfied: pillow>=8 in c:\\users\\panda\\onedrive\\desktop\\input overlap\\venv\\lib\\site-packages (from matplotlib) (11.2.1)\n",
      "Requirement already satisfied: pyparsing>=2.3.1 in c:\\users\\panda\\onedrive\\desktop\\input overlap\\venv\\lib\\site-packages (from matplotlib) (3.2.3)\n",
      "Requirement already satisfied: python-dateutil>=2.7 in c:\\users\\panda\\onedrive\\desktop\\input overlap\\venv\\lib\\site-packages (from matplotlib) (2.9.0.post0)\n",
      "Requirement already satisfied: six>=1.5 in c:\\users\\panda\\onedrive\\desktop\\input overlap\\venv\\lib\\site-packages (from python-dateutil>=2.7->matplotlib) (1.17.0)\n"
     ]
    },
    {
     "name": "stderr",
     "output_type": "stream",
     "text": [
      "\n",
      "[notice] A new release of pip is available: 23.1.2 -> 25.1.1\n",
      "[notice] To update, run: python.exe -m pip install --upgrade pip\n"
     ]
    }
   ],
   "source": [
    "!pip install seaborn\n",
    "!pip install matplotlib"
   ]
  },
  {
   "cell_type": "code",
   "execution_count": 29,
   "id": "a4df4760",
   "metadata": {},
   "outputs": [
    {
     "data": {
      "image/png": "[encoded data removed]",
      "text/plain": [
       "<Figure size 640x480 with 1 Axes>"
      ]
     },
     "metadata": {},
     "output_type": "display_data"
    },
    {
     "data": {
      "image/png": "[encoded data removed]",
      "text/plain": [
       "<Figure size 640x480 with 1 Axes>"
      ]
     },
     "metadata": {},
     "output_type": "display_data"
    },
    {
     "data": {
      "image/png": "[encoded data removed]",
      "text/plain": [
       "<Figure size 640x480 with 1 Axes>"
      ]
     },
     "metadata": {},
     "output_type": "display_data"
    }
   ],
   "source": [
    "import seaborn as sns\n",
    "import matplotlib.pyplot as plt\n",
    "\n",
    "# PnL vs Sentiment\n",
    "sns.boxplot(data=merged_df, x=\"classification\", y=\"Closed PnL\")\n",
    "plt.title(\"Trader PnL on Fear vs Greed Days\")\n",
    "plt.show()\n",
    "\n",
    "# Volume vs Sentiment\n",
    "sns.barplot(data=merged_df, x=\"classification\", y=\"Size USD\")\n",
    "plt.title(\"Volume Traded on Fear vs Greed Days\")\n",
    "plt.show()\n",
    "\n",
    "sns.barplot(data=merged_df, x=\"classification\", y=\"Fee\")\n",
    "plt.title(\"Fees Paid on Fear vs Greed Days\")\n",
    "plt.show()\n"
   ]
  },
  {
   "cell_type": "markdown",
   "id": "4fc848df",
   "metadata": {},
   "source": [
    "# Trader Behavior vs Bitcoin Market Sentiment\n",
    "\n",
    "## Objective\n",
    "\n",
    "The goal of this project is to explore how trader behavior relates to Bitcoin market sentiment, using two datasets:\n",
    "\n",
    "1. Bitcoin Fear/Greed Index - daily classification of market sentiment\n",
    "2. Historical trading data from Hyperliquid - including execution prices, trade sides, size, PnL, and fees\n",
    "\n",
    "By merging these datasets on date, I analyzed whether sentiment (fear or greed) has a measurable impact on how traders perform, how much they trade, and what they pay in fees.\n",
    "\n",
    "## Data Overview\n",
    "\n",
    "The historical trading dataset includes columns like:\n",
    "- Account\n",
    "- Coin\n",
    "- Execution Price\n",
    "- Size USD\n",
    "- Side (Buy/Sell)\n",
    "- Timestamp\n",
    "- Closed PnL\n",
    "- Fee\n",
    "\n",
    "The sentiment dataset includes:\n",
    "- Date\n",
    "- Value (numeric index)\n",
    "- Classification (Extreme Fear, Fear, Neutral, Greed, Extreme Greed)\n",
    "\n",
    "## Methodology\n",
    "\n",
    "- Loaded both datasets and converted timestamps to a consistent datetime format\n",
    "- Aggregated the trading data by day to calculate:\n",
    "  - Average PnL\n",
    "  - Total volume traded\n",
    "  - Total fees paid\n",
    "- Merged aggregated trader data with the daily sentiment classification\n",
    "- Created visual comparisons to analyze trends across different sentiment levels\n",
    "\n",
    "## Key Insights\n",
    "\n",
    "1. Trader PnL is mostly stable across sentiment levels.  \n",
    "   On average, trader profitability does not show a strong difference between fear and greed days. This suggests that experienced traders may not be overly influenced by market sentiment.\n",
    "\n",
    "2. Trading volume is significantly higher on Fear and Extreme Fear days.  \n",
    "   Volume traded increases steadily from greed to fear, with the highest volume observed on days classified as Extreme Fear. This indicates traders are more active during market uncertainty, possibly due to volatility or attempts to capitalize on dips.\n",
    "\n",
    "3. Fees paid also increase on Fear and Extreme Fear days.  \n",
    "   The total fees paid by traders rise alongside trading volume. Higher fees may reflect more frequent trades or reactive strategies during high-sentiment volatility.\n",
    "\n",
    "## Tools and Libraries Used\n",
    "\n",
    "- Python\n",
    "- Pandas\n",
    "- Matplotlib\n",
    "- Seaborn\n",
    "- Jupyter Notebook\n",
    "\n",
    "## How to Use\n",
    "\n",
    "Clone this repository, open the notebook file (assignment.ipynb), and run the cells in order. All data exploration and visualizations are included inline in the notebook.\n",
    "\n",
    "## Author\n",
    "\n",
    "Saswat Kumar Panda  \n",
    "Applied for: Junior Data Scientist - Trader Behavior Insights\n"
   ]
  }
 ],
 "metadata": {
  "kernelspec": {
   "display_name": "overlap-env",
   "language": "python",
   "name": "overlap-env"
  },
  "language_info": {
   "codemirror_mode": {
    "name": "ipython",
    "version": 3
   },
   "file_extension": ".py",
   "mimetype": "text/x-python",
   "name": "python",
   "nbconvert_exporter": "python",
   "pygments_lexer": "ipython3",
   "version": "3.11.4"
  }
 },
 "nbformat": 4,
 "nbformat_minor": 5
}
